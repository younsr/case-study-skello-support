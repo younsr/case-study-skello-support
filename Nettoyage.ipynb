{
 "cells": [
  {
   "cell_type": "code",
   "execution_count": null,
   "metadata": {},
   "outputs": [
    {
     "name": "stderr",
     "output_type": "stream",
     "text": [
      "C:\\Temp\\ipykernel_14312\\1455829600.py:6: DtypeWarning: Columns (7) have mixed types. Specify dtype option on import or set low_memory=False.\n",
      "  conversation_parts = pd.read_csv(r'C:\\Users\\formation\\Downloads\\CONVERSATION_PARTS.csv')\n"
     ]
    },
    {
     "name": "stdout",
     "output_type": "stream",
     "text": [
      "Nettoyage terminé ! 🎯\n"
     ]
    }
   ],
   "source": [
    "import pandas as pd\n",
    "import json\n",
    "\n",
    "# 1 charger les fichiers CSV\n",
    "conversations = pd.read_csv(r'C:\\Users\\formation\\Downloads\\CONVERSATIONS.csv')\n",
    "conversation_parts = pd.read_csv(r'C:\\Users\\formation\\Downloads\\CONVERSATION_PARTS.csv')\n",
    "\n",
    "# 2 nettoyage des colonnes JSON dans CONVERSATIONS\n",
    "\n",
    "def extract_assignee_id(assignee_str):\n",
    "    try:\n",
    "        assignee = json.loads(assignee_str)\n",
    "        return assignee.get('id') if assignee else None\n",
    "    except:\n",
    "        return None\n",
    "\n",
    "conversations['ASSIGNEE_ID'] = conversations['ASSIGNEE'].apply(extract_assignee_id)\n",
    "\n",
    "# CONVERSATION_RATING \n",
    "def extract_csat_score(rating_str):\n",
    "    try:\n",
    "        rating = json.loads(rating_str)\n",
    "        return rating.get('rating') if rating else None\n",
    "    except:\n",
    "        return None\n",
    "\n",
    "conversations['CSAT_SCORE'] = conversations['CONVERSATION_RATING'].apply(extract_csat_score)\n",
    "\n",
    "# 3 nettoyage des colonnes JSON dans CONVERSATION_PARTS\n",
    "#  AUTHOR :\n",
    "def extract_author_info(author_str):\n",
    "    try:\n",
    "        author = json.loads(author_str)\n",
    "        return author.get('id'), author.get('type')\n",
    "    except:\n",
    "        return None, None\n",
    "\n",
    "conversation_parts[['AUTHOR_ID', 'AUTHOR_TYPE']] = conversation_parts['AUTHOR'].apply(\n",
    "    lambda x: pd.Series(extract_author_info(x))\n",
    ")\n",
    "\n",
    "# 4 sauvegarder les fichiers nettoyés si besoin\n",
    "conversations.to_csv('CONVERSATIONS_CLEAN.csv', index=False)\n",
    "conversation_parts.to_csv('CONVERSATION_PARTS_CLEAN.csv', index=False)\n",
    "\n",
    "print(\"Nettoyage terminé !\")\n"
   ]
  }
 ],
 "metadata": {
  "kernelspec": {
   "display_name": "Python 3",
   "language": "python",
   "name": "python3"
  },
  "language_info": {
   "codemirror_mode": {
    "name": "ipython",
    "version": 3
   },
   "file_extension": ".py",
   "mimetype": "text/x-python",
   "name": "python",
   "nbconvert_exporter": "python",
   "pygments_lexer": "ipython3",
   "version": "3.13.2"
  }
 },
 "nbformat": 4,
 "nbformat_minor": 2
}
